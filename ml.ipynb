{
 "cells": [
  {
   "cell_type": "code",
   "execution_count": 192,
   "metadata": {},
   "outputs": [],
   "source": [
    "import sqlite3\n",
    "import os\n",
    "import pandas as pd\n",
    "import numpy as np\n",
    "import warnings\n",
    "from collections import Counter\n",
    "warnings.filterwarnings('ignore')\n",
    "\n",
    "connection = sqlite3.connect('instance/db.sqlite')\n",
    "cur = connection.cursor()\n",
    "PATH = 'project/static/images/'"
   ]
  },
  {
   "cell_type": "code",
   "execution_count": 109,
   "metadata": {},
   "outputs": [],
   "source": [
    "data = cur.execute('''SELECT id, img_path, clothes, color FROM photo''').fetchall()\n",
    "columns = ['id', 'img_path', 'clothes', 'color']\n",
    "data = pd.DataFrame(columns=columns, data=data)\n",
    "data['clothes'] = data.clothes.apply(lambda x: x.split(','))\n",
    "for i in range(21):\n",
    "    data[f'{i}_clothes'] = data.clothes.apply(lambda x: int(i in x))\n",
    "colors = list(map(str.strip, open('img_proessing/colors.txt').readlines()))\n",
    "for i in colors:\n",
    "    data[i+'_color'] =  data.color.apply(lambda x: int(i == x))"
   ]
  },
  {
   "cell_type": "code",
   "execution_count": 111,
   "metadata": {},
   "outputs": [],
   "source": [
    "from sklearn.metrics.pairwise import cosine_distances\n",
    "import torch\n",
    "import torchvision.models as models\n",
    "import torchvision.transforms as transforms\n",
    "from PIL import Image, ImageShow\n",
    "\n",
    "resnet = models.resnet152(pretrained=True)\n",
    "for param in resnet.parameters():\n",
    "    param.requires_grad = False\n",
    "resnet = torch.nn.Sequential(*(list(resnet.children())[:-1]))\n",
    "\n",
    "\n",
    "transform = transforms.Compose([\n",
    "    transforms.ToTensor(),\n",
    "    transforms.Normalize(mean=[0.485, 0.456, 0.406], \n",
    "                         std=[0.229, 0.224, 0.225]),\n",
    "])\n",
    "\n",
    "def process_image(image_path):\n",
    "    image = Image.open(PATH + image_path).convert('RGB')\n",
    "    image = transform(image)\n",
    "    image = image.unsqueeze(0)\n",
    "    return image\n",
    "\n",
    "\n",
    "def get_resnet_embedding(image_path):\n",
    "    image = process_image(image_path)\n",
    "    with torch.no_grad():\n",
    "        resnet.eval()\n",
    "        output = resnet(image)\n",
    "    return output.squeeze().numpy() \n"
   ]
  },
  {
   "cell_type": "code",
   "execution_count": 112,
   "metadata": {},
   "outputs": [],
   "source": [
    "data['embedings'] = data['img_path'].apply(get_resnet_embedding)\n",
    "data.embedings = data.embedings.apply(lambda x: [x.tolist()])"
   ]
  },
  {
   "cell_type": "code",
   "execution_count": null,
   "metadata": {},
   "outputs": [],
   "source": [
    "columns = data.id.unique()\n",
    "dist_df = pd.DataFrame(index=columns, columns=columns)\n",
    "for i in range(len(columns)):\n",
    "    for j in range(i, len(columns)):\n",
    "        dist_df[columns[i]][columns[j]] = cosine_distances(emb[columns[i]], emb[columns[j]])[0][0]\n",
    "        dist_df[columns[j]][columns[i]] = dist_df[columns[i]][columns[j]]\n",
    "dist_df"
   ]
  },
  {
   "cell_type": "code",
   "execution_count": 230,
   "metadata": {},
   "outputs": [],
   "source": [
    "dist_df.to_csv('dist.csv', sep=';', index_label='img_id')"
   ]
  },
  {
   "cell_type": "code",
   "execution_count": 316,
   "metadata": {},
   "outputs": [
    {
     "data": {
      "text/plain": [
       "[1020, 615, 663, 887, 835, 1113, 1138, 764, 1106]"
      ]
     },
     "execution_count": 316,
     "metadata": {},
     "output_type": "execute_result"
    }
   ],
   "source": [
    "user_data = cur.execute('''SELECT img_id, state, clothes, date_time FROM interaction WHERE user_id = 3 ''').fetchall()\n",
    "user_likes = list(map(lambda i: i[0], filter(lambda x: x[1] == 1, user_data)))[-10:]\n",
    "user_dislikes = list(map(lambda i: i[0],  filter(lambda x: x[1] == 2, user_data)))[-10:]\n",
    "user_likes"
   ]
  },
  {
   "cell_type": "code",
   "execution_count": 317,
   "metadata": {},
   "outputs": [
    {
     "data": {
      "text/plain": [
       "1048"
      ]
     },
     "execution_count": 317,
     "metadata": {},
     "output_type": "execute_result"
    }
   ],
   "source": [
    "reco = []\n",
    "for i in user_likes:\n",
    "    reco += dist_df[i].sort_values().index[1:11].to_list()\n",
    "for i, j in sorted(Counter(reco).items(), key=lambda x: -x[1]):\n",
    "    if i not in user_likes and i not in user_dislikes:\n",
    "        new_ans = i\n",
    "        break\n",
    "new_ans"
   ]
  },
  {
   "cell_type": "code",
   "execution_count": 318,
   "metadata": {},
   "outputs": [
    {
     "data": {
      "text/html": [
       "<div>\n",
       "<style scoped>\n",
       "    .dataframe tbody tr th:only-of-type {\n",
       "        vertical-align: middle;\n",
       "    }\n",
       "\n",
       "    .dataframe tbody tr th {\n",
       "        vertical-align: top;\n",
       "    }\n",
       "\n",
       "    .dataframe thead th {\n",
       "        text-align: right;\n",
       "    }\n",
       "</style>\n",
       "<table border=\"1\" class=\"dataframe\">\n",
       "  <thead>\n",
       "    <tr style=\"text-align: right;\">\n",
       "      <th></th>\n",
       "      <th>id</th>\n",
       "      <th>img_path</th>\n",
       "      <th>clothes</th>\n",
       "      <th>color</th>\n",
       "      <th>0_clothes</th>\n",
       "      <th>1_clothes</th>\n",
       "      <th>2_clothes</th>\n",
       "      <th>3_clothes</th>\n",
       "      <th>4_clothes</th>\n",
       "      <th>5_clothes</th>\n",
       "      <th>...</th>\n",
       "      <th>red_color</th>\n",
       "      <th>orange_color</th>\n",
       "      <th>peach_color</th>\n",
       "      <th>yellow_color</th>\n",
       "      <th>green_color</th>\n",
       "      <th>blue_color</th>\n",
       "      <th>brown_color</th>\n",
       "      <th>violet_color</th>\n",
       "      <th>dark_color</th>\n",
       "      <th>embedings</th>\n",
       "    </tr>\n",
       "  </thead>\n",
       "  <tbody>\n",
       "    <tr>\n",
       "      <th>516</th>\n",
       "      <td>1048</td>\n",
       "      <td>image10151.png</td>\n",
       "      <td>[0, 3, 7, 8, 17]</td>\n",
       "      <td>blue</td>\n",
       "      <td>0</td>\n",
       "      <td>0</td>\n",
       "      <td>0</td>\n",
       "      <td>0</td>\n",
       "      <td>0</td>\n",
       "      <td>0</td>\n",
       "      <td>...</td>\n",
       "      <td>0</td>\n",
       "      <td>0</td>\n",
       "      <td>0</td>\n",
       "      <td>0</td>\n",
       "      <td>0</td>\n",
       "      <td>1</td>\n",
       "      <td>0</td>\n",
       "      <td>0</td>\n",
       "      <td>0</td>\n",
       "      <td>[[0.21100880205631256, 0.3498663604259491, 0.1...</td>\n",
       "    </tr>\n",
       "  </tbody>\n",
       "</table>\n",
       "<p>1 rows × 36 columns</p>\n",
       "</div>"
      ],
      "text/plain": [
       "       id        img_path           clothes color  0_clothes  1_clothes  \\\n",
       "516  1048  image10151.png  [0, 3, 7, 8, 17]  blue          0          0   \n",
       "\n",
       "     2_clothes  3_clothes  4_clothes  5_clothes  ...  red_color  orange_color  \\\n",
       "516          0          0          0          0  ...          0             0   \n",
       "\n",
       "     peach_color  yellow_color  green_color  blue_color  brown_color  \\\n",
       "516            0             0            0           1            0   \n",
       "\n",
       "     violet_color  dark_color  \\\n",
       "516             0           0   \n",
       "\n",
       "                                             embedings  \n",
       "516  [[0.21100880205631256, 0.3498663604259491, 0.1...  \n",
       "\n",
       "[1 rows x 36 columns]"
      ]
     },
     "execution_count": 318,
     "metadata": {},
     "output_type": "execute_result"
    }
   ],
   "source": [
    "data[data['id'] == new_ans]"
   ]
  },
  {
   "cell_type": "code",
   "execution_count": 286,
   "metadata": {},
   "outputs": [
    {
     "data": {
      "text/plain": [
       "[918, 820, 1079, 714, 928, 1070, 780]"
      ]
     },
     "execution_count": 286,
     "metadata": {},
     "output_type": "execute_result"
    }
   ],
   "source": [
    "user_likes"
   ]
  },
  {
   "cell_type": "code",
   "execution_count": 277,
   "metadata": {},
   "outputs": [
    {
     "data": {
      "text/plain": [
       "[(1, 'lari.x@mail.ru', 'lol'),\n",
       " (2, 'new_acc@mail.ru', 'lol'),\n",
       " (3, 'lol@mail.ru', 'lol'),\n",
       " (4, 'typalollol@gamil.cpm', 'gamilalka'),\n",
       " (5, 'new@mail.ru', 'new5')]"
      ]
     },
     "execution_count": 277,
     "metadata": {},
     "output_type": "execute_result"
    }
   ],
   "source": [
    "cur.execute('''SELECT id, email, login FROM user ''').fetchall()\n"
   ]
  },
  {
   "cell_type": "code",
   "execution_count": null,
   "metadata": {},
   "outputs": [],
   "source": []
  }
 ],
 "metadata": {
  "kernelspec": {
   "display_name": "Python 3",
   "language": "python",
   "name": "python3"
  },
  "language_info": {
   "codemirror_mode": {
    "name": "ipython",
    "version": 3
   },
   "file_extension": ".py",
   "mimetype": "text/x-python",
   "name": "python",
   "nbconvert_exporter": "python",
   "pygments_lexer": "ipython3",
   "version": "3.9.6"
  },
  "orig_nbformat": 4
 },
 "nbformat": 4,
 "nbformat_minor": 2
}
