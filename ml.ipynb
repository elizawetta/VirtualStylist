{
 "cells": [
  {
   "cell_type": "code",
   "execution_count": 5,
   "metadata": {},
   "outputs": [],
   "source": [
    "import sqlite3\n",
    "import os\n",
    "import pandas as pd\n",
    "import numpy as np\n",
    "import warnings\n",
    "from collections import Counter\n",
    "warnings.filterwarnings('ignore')\n",
    "\n",
    "connection = sqlite3.connect('instance/db.sqlite')\n",
    "cur = connection.cursor()\n",
    "PATH = 'project/static/images/'"
   ]
  },
  {
   "cell_type": "code",
   "execution_count": 109,
   "metadata": {},
   "outputs": [],
   "source": [
    "data = cur.execute('''SELECT id, img_path, clothes, color FROM photo''').fetchall()\n",
    "columns = ['id', 'img_path', 'clothes', 'color']\n",
    "data = pd.DataFrame(columns=columns, data=data)\n",
    "data['clothes'] = data.clothes.apply(lambda x: x.split(','))\n",
    "for i in range(21):\n",
    "    data[f'{i}_clothes'] = data.clothes.apply(lambda x: int(i in x))\n",
    "colors = list(map(str.strip, open('img_proessing/colors.txt').readlines()))\n",
    "for i in colors:\n",
    "    data[i+'_color'] =  data.color.apply(lambda x: int(i == x))"
   ]
  },
  {
   "cell_type": "code",
   "execution_count": 111,
   "metadata": {},
   "outputs": [],
   "source": [
    "from sklearn.metrics.pairwise import cosine_distances\n",
    "import torch\n",
    "import torchvision.models as models\n",
    "import torchvision.transforms as transforms\n",
    "from PIL import Image, ImageShow\n",
    "\n",
    "resnet = models.resnet152(pretrained=True)\n",
    "for param in resnet.parameters():\n",
    "    param.requires_grad = False\n",
    "resnet = torch.nn.Sequential(*(list(resnet.children())[:-1]))\n",
    "\n",
    "\n",
    "transform = transforms.Compose([\n",
    "    transforms.ToTensor(),\n",
    "    transforms.Normalize(mean=[0.485, 0.456, 0.406], \n",
    "                         std=[0.229, 0.224, 0.225]),\n",
    "])\n",
    "\n",
    "def process_image(image_path):\n",
    "    image = Image.open(PATH + image_path).convert('RGB')\n",
    "    image = transform(image)\n",
    "    image = image.unsqueeze(0)\n",
    "    return image\n",
    "\n",
    "\n",
    "def get_resnet_embedding(image_path):\n",
    "    image = process_image(image_path)\n",
    "    with torch.no_grad():\n",
    "        resnet.eval()\n",
    "        output = resnet(image)\n",
    "    return output.squeeze().numpy() \n"
   ]
  },
  {
   "cell_type": "code",
   "execution_count": 112,
   "metadata": {},
   "outputs": [],
   "source": [
    "data['embedings'] = data['img_path'].apply(get_resnet_embedding)\n",
    "data.embedings = data.embedings.apply(lambda x: [x.tolist()])"
   ]
  },
  {
   "cell_type": "code",
   "execution_count": null,
   "metadata": {},
   "outputs": [],
   "source": [
    "columns = data.id.unique()\n",
    "dist_df = pd.DataFrame(index=columns, columns=columns)\n",
    "for i in range(len(columns)):\n",
    "    for j in range(i, len(columns)):\n",
    "        dist_df[columns[i]][columns[j]] = cosine_distances(emb[columns[i]], emb[columns[j]])[0][0]\n",
    "        dist_df[columns[j]][columns[i]] = dist_df[columns[i]][columns[j]]\n",
    "dist_df"
   ]
  },
  {
   "cell_type": "code",
   "execution_count": 230,
   "metadata": {},
   "outputs": [],
   "source": [
    "dist_df.to_csv('dist.csv', sep=';', index_label='img_id')"
   ]
  },
  {
   "cell_type": "code",
   "execution_count": 7,
   "metadata": {},
   "outputs": [
    {
     "data": {
      "text/plain": [
       "([1077, 788, 611, 538, 959, 1086, 818, 935, 1036, 1002],\n",
       " [617, 1003, 926, 924, 595, 858, 895, 1081, 592, 765])"
      ]
     },
     "execution_count": 7,
     "metadata": {},
     "output_type": "execute_result"
    }
   ],
   "source": [
    "user_data = cur.execute('''SELECT img_id, state, clothes, date_time FROM interaction WHERE user_id = 3 ''').fetchall()\n",
    "user_likes = list(map(lambda i: i[0], filter(lambda x: x[1] == 1, user_data)))[-10:]\n",
    "user_dislikes = list(map(lambda i: i[0],  filter(lambda x: x[1] == 2, user_data)))[-10:]\n",
    "user_likes, user_dislikes"
   ]
  },
  {
   "cell_type": "code",
   "execution_count": 9,
   "metadata": {},
   "outputs": [
    {
     "data": {
      "text/plain": [
       "img_id\n",
       "532     0.000000\n",
       "533     0.090881\n",
       "534     0.164869\n",
       "535     0.127992\n",
       "536     0.117409\n",
       "          ...   \n",
       "1148    0.183338\n",
       "1149    0.147591\n",
       "1150    0.124968\n",
       "1151    0.116861\n",
       "1152    0.136420\n",
       "Name: 532, Length: 621, dtype: float64"
      ]
     },
     "execution_count": 9,
     "metadata": {},
     "output_type": "execute_result"
    }
   ],
   "source": [
    "dist_df = pd.read_csv('dist.csv', sep=';', index_col='img_id')\n",
    "dist_df['532']"
   ]
  },
  {
   "cell_type": "code",
   "execution_count": null,
   "metadata": {},
   "outputs": [],
   "source": [
    "reco = []\n",
    "for i in user_likes:\n",
    "    reco += dist_df[i].sort_values().index[1:11].to_list()\n",
    "for i, j in sorted(Counter(reco).items(), key=lambda x: -x[1])[:7]:\n",
    "    if i not in user_likes and i not in user_dislikes:\n",
    "        im = data[data['id'] == i]['img_path'].to_list()[0]\n",
    "        ImageShow.show(Image.open(PATH+im))\n",
    "# Counter(reco)"
   ]
  },
  {
   "cell_type": "code",
   "execution_count": 8,
   "metadata": {},
   "outputs": [],
   "source": [
    "connection.executescript('''DELETE FROM interaction''')\n",
    "connection.commit()\n",
    "# connection.close()"
   ]
  },
  {
   "cell_type": "code",
   "execution_count": 12,
   "metadata": {},
   "outputs": [
    {
     "data": {
      "text/plain": [
       "(752, 'image10467.png', '20,6,15')"
      ]
     },
     "execution_count": 12,
     "metadata": {},
     "output_type": "execute_result"
    }
   ],
   "source": [
    "from PIL import Image, ImageShow\n",
    "def reco1(user):\n",
    "    user_data = cur.execute(f'''SELECT img_id, state, clothes, date_time \n",
    "                            FROM interaction WHERE user_id = {user} ''').fetchall()\n",
    "    user_likes = list(map(lambda i: i[0], filter(lambda x: x[1] == 1, user_data)))[-10:]\n",
    "    user_dislikes = list(map(lambda i: i[0],  filter(lambda x: x[1] == 2, user_data)))[-10:]\n",
    "    reco = []\n",
    "    for i in user_dislikes:\n",
    "        reco += dist_df[str(i)].sort_values().index[-5:].to_list()\n",
    "    reco_im_id = -1\n",
    "    for i, j in sorted(Counter(reco).items(), key=lambda x: -x[1]):\n",
    "        im_id, path, clothes = cur.execute(f'''SELECT id, img_path, clothes \n",
    "                            FROM photo WHERE id = {i} ''').fetchone()\n",
    "        ImageShow.show(Image.open(PATH+path))\n",
    "    \n",
    "    # clothes = cur.execute(f'''SELECT clothes, clothes_id FROM clothes WHERE clothes_id IN ({clothes})''').fetchall()\n",
    "    # clothes = set(clothes)\n",
    "    return im_id, path, clothes\n",
    "reco1(3)"
   ]
  },
  {
   "cell_type": "code",
   "execution_count": 15,
   "metadata": {},
   "outputs": [
    {
     "data": {
      "text/plain": [
       "[(620, 'image10438.png', 5, '2024-05-14 17:09:38.499397'),\n",
       " (685, 'image1019.png', 5, '2024-05-14 17:09:40.878776'),\n",
       " (715, 'image10338.png', 5, '2024-05-14 17:09:46.827129'),\n",
       " (1041, 'image10420.png', 5, '2024-05-14 17:09:52.593562'),\n",
       " (593, 'image10400.png', 5, '2024-05-14 17:09:54.368615'),\n",
       " (1111, 'image10222.png', 5, '2024-05-14 17:10:01.768712'),\n",
       " (764, 'image1036.png', 5, '2024-05-14 17:10:08.789266'),\n",
       " (746, 'image10507.png', 5, '2024-05-14 17:10:19.303854'),\n",
       " (595, 'image1078.png', 5, '2024-05-14 17:10:25.941850'),\n",
       " (955, 'image10323.png', 5, '2024-05-14 17:10:31.943794'),\n",
       " (891, 'image10046.png', 5, '2024-05-14 17:10:36.384619'),\n",
       " (1048, 'image10151.png', 5, '2024-05-14 17:10:51.135970'),\n",
       " (1109, 'image10395.png', 5, '2024-05-14 17:10:53.515902'),\n",
       " (692, 'image1018.png', 5, '2024-05-14 17:10:55.912405'),\n",
       " (622, '94ea2574-image115.png', 5, '2024-05-14 17:10:57.493350'),\n",
       " (606, 'image10799.png', 5, '2024-05-14 17:11:50.289201'),\n",
       " (635, 'image10388.png', 5, '2024-05-14 17:48:25.696905'),\n",
       " (1064, 'image10596.png', 5, '2024-05-14 17:48:26.649488'),\n",
       " (696, 'image10448.png', 5, '2024-05-14 17:48:27.669875'),\n",
       " (830, 'image10657.png', 5, '2024-05-14 17:48:29.314377'),\n",
       " (1151, 'image10751.png', 5, '2024-05-14 17:48:36.915274'),\n",
       " (960, 'image105.png', 5, '2024-05-14 17:48:38.062266'),\n",
       " (1102, 'image10418.png', 5, '2024-05-14 17:48:39.128751'),\n",
       " (861, 'image1007.png', 5, '2024-05-14 17:48:40.590310'),\n",
       " (779, 'image10048.png', 5, '2024-05-14 17:48:52.039790'),\n",
       " (921, 'image10309.png', 5, '2024-05-14 17:48:53.388601'),\n",
       " (536, '66084130-image8.png', 5, '2024-05-14 17:48:54.397056'),\n",
       " (672, 'image10016.png', 5, '2024-05-14 17:48:55.495574'),\n",
       " (804, 'image10303.png', 5, '2024-05-14 17:48:56.673794'),\n",
       " (1088, 'image10196.png', 5, '2024-05-14 17:48:57.863019'),\n",
       " (832, 'image1039.png', 5, '2024-05-14 17:48:59.007171'),\n",
       " (780, '272a0393-image105.png', 5, '2024-05-14 17:49:00.288741'),\n",
       " (751, 'image10315.png', 5, '2024-05-14 17:49:01.264258'),\n",
       " (898, 'image10056.png', 5, '2024-05-14 17:49:02.254164'),\n",
       " (918, 'image10686.png', 5, '2024-05-14 17:49:03.339105'),\n",
       " (1147, 'image10584.png', 5, '2024-05-14 17:49:05.555980'),\n",
       " (568, '371e3552-image9.png', 5, '2024-05-14 17:50:26.044473'),\n",
       " (844, '33bc7a87-image6.png', 5, '2024-05-14 17:50:26.852276'),\n",
       " (943, 'image10727.png', 5, '2024-05-14 17:50:27.926032'),\n",
       " (1018, 'image10556.png', 5, '2024-05-14 17:50:28.774646'),\n",
       " (1020, 'image10218.png', 5, '2024-05-14 17:50:29.742720'),\n",
       " (700, 'image10514.png', 5, '2024-05-14 17:50:30.672122'),\n",
       " (859, 'image10537.png', 5, '2024-05-14 17:50:31.731223'),\n",
       " (997, 'image10437.png', 5, '2024-05-14 17:50:32.821806'),\n",
       " (631, '7ab4ac84-image27.png', 5, '2024-05-14 17:50:33.911201'),\n",
       " (744, 'image10077.png', 5, '2024-05-14 17:50:35.292457'),\n",
       " (1096, 'image10626.png', 5, '2024-05-14 17:50:36.265070'),\n",
       " (1136, 'image10618.png', 5, '2024-05-14 17:50:37.241332'),\n",
       " (789, 'image10458.png', 5, '2024-05-14 17:50:38.413039'),\n",
       " (1013, 'image10378.png', 5, '2024-05-14 17:50:39.484917'),\n",
       " (745, 'image10739.png', 5, '2024-05-14 17:50:40.449664'),\n",
       " (786, 'image10302.png', 5, '2024-05-14 17:50:41.537777'),\n",
       " (659, 'image10611.png', 5, '2024-05-14 17:50:43.081732'),\n",
       " (774, 'image10062.png', 5, '2024-05-14 17:50:44.149328'),\n",
       " (982, 'image10097.png', 5, '2024-05-14 17:50:45.635525'),\n",
       " (985, 'image10033.png', 5, '2024-05-14 17:50:46.919727'),\n",
       " (772, 'image10738.png', 5, '2024-05-14 17:50:48.129679'),\n",
       " (587, 'image10602.png', 5, '2024-05-14 17:50:49.368725'),\n",
       " (1150, 'image10745.png', 5, '2024-05-14 17:50:50.725333'),\n",
       " (634, 'image10377.png', 5, '2024-05-14 17:50:51.841612'),\n",
       " (610, 'image10564.png', 5, '2024-05-14 17:50:52.795157'),\n",
       " (579, 'image10213.png', 5, '2024-05-14 17:50:54.516882'),\n",
       " (1067, 'image10025.png', 5, '2024-05-14 17:50:55.503509'),\n",
       " (893, 'image10091.png', 5, '2024-05-14 17:50:56.688260'),\n",
       " (938, 'b0389953-image112.png', 5, '2024-05-14 17:50:58.167885'),\n",
       " (703, 'image10702.png', 5, '2024-05-14 17:50:59.282750'),\n",
       " (584, 'image10401.png', 5, '2024-05-14 17:51:01.500910'),\n",
       " (651, 'image10201.png', 5, '2024-05-14 17:51:02.431123'),\n",
       " (657, 'image10163.png', 5, '2024-05-14 17:51:03.288207'),\n",
       " (814, '0e50234a-image104.png', 5, '2024-05-14 17:51:04.516747'),\n",
       " (862, 'image10319.png', 5, '2024-05-14 17:51:05.382275'),\n",
       " (1118, 'image10750.png', 5, '2024-05-14 17:51:07.584031'),\n",
       " (1051, 'fc022889-image17.png', 5, '2024-05-14 17:51:08.606108'),\n",
       " (995, 'image10345.png', 5, '2024-05-14 17:51:40.917598'),\n",
       " (807, '00c2512a-image46.png', 5, '2024-05-14 17:51:41.942842'),\n",
       " (678, 'image10273.png', 5, '2024-05-14 17:51:43.742517'),\n",
       " (588, 'image10164.png', 5, '2024-05-14 17:51:44.673917')]"
      ]
     },
     "execution_count": 15,
     "metadata": {},
     "output_type": "execute_result"
    }
   ],
   "source": [
    "cur.execute('''SELECT photo.id, photo.img_path, interaction.user_id, interaction.date_time FROM photo \n",
    "            JOIN interaction ON photo.id = interaction.img_id ''').fetchall()"
   ]
  },
  {
   "cell_type": "code",
   "execution_count": null,
   "metadata": {},
   "outputs": [],
   "source": []
  },
  {
   "cell_type": "code",
   "execution_count": null,
   "metadata": {},
   "outputs": [],
   "source": []
  }
 ],
 "metadata": {
  "kernelspec": {
   "display_name": "Python 3",
   "language": "python",
   "name": "python3"
  },
  "language_info": {
   "codemirror_mode": {
    "name": "ipython",
    "version": 3
   },
   "file_extension": ".py",
   "mimetype": "text/x-python",
   "name": "python",
   "nbconvert_exporter": "python",
   "pygments_lexer": "ipython3",
   "version": "3.9.6"
  },
  "orig_nbformat": 4
 },
 "nbformat": 4,
 "nbformat_minor": 2
}
