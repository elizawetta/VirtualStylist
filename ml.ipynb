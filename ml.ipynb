{
 "cells": [
  {
   "cell_type": "code",
   "execution_count": 11,
   "metadata": {},
   "outputs": [],
   "source": [
    "import sqlite3\n",
    "import os\n",
    "import pandas as pd\n",
    "import numpy as np\n",
    "import warnings\n",
    "from collections import Counter\n",
    "warnings.filterwarnings('ignore')\n",
    "\n",
    "connection = sqlite3.connect('instance/db.sqlite')\n",
    "cur = connection.cursor()\n",
    "PATH = 'project/static/images/'"
   ]
  },
  {
   "cell_type": "code",
   "execution_count": 14,
   "metadata": {},
   "outputs": [],
   "source": [
    "data = cur.execute('''SELECT id, img_path, clothes, color FROM photo''').fetchall()\n",
    "columns = ['id', 'img_path', 'clothes', 'color']\n",
    "data = pd.DataFrame(columns=columns, data=data)\n",
    "data['clothes'] = data.clothes.apply(lambda x: x.split(','))\n",
    "for i in range(21):\n",
    "    data[f'{i}_clothes'] = data.clothes.apply(lambda x: int(i in x))\n",
    "colors = list(map(str.strip, open('img_proessing/colors.txt').readlines()))\n",
    "for i in colors:\n",
    "    data[i+'_color'] =  data.color.apply(lambda x: int(i == x))"
   ]
  },
  {
   "cell_type": "code",
   "execution_count": 15,
   "metadata": {},
   "outputs": [],
   "source": [
    "from sklearn.metrics.pairwise import cosine_distances\n",
    "import torch\n",
    "import torchvision.models as models\n",
    "import torchvision.transforms as transforms\n",
    "from PIL import Image, ImageShow\n",
    "\n",
    "resnet = models.resnet152(pretrained=True)\n",
    "for param in resnet.parameters():\n",
    "    param.requires_grad = False\n",
    "resnet = torch.nn.Sequential(*(list(resnet.children())[:-1]))\n",
    "\n",
    "\n",
    "transform = transforms.Compose([\n",
    "    transforms.ToTensor(),\n",
    "    transforms.Normalize(mean=[0.485, 0.456, 0.406], \n",
    "                         std=[0.229, 0.224, 0.225]),\n",
    "])\n",
    "\n",
    "def process_image(image_path):\n",
    "    image = Image.open(PATH + image_path).convert('RGB')\n",
    "    image = transform(image)\n",
    "    image = image.unsqueeze(0)\n",
    "    return image\n",
    "\n",
    "\n",
    "def get_resnet_embedding(image_path):\n",
    "    image = process_image(image_path)\n",
    "    with torch.no_grad():\n",
    "        resnet.eval()\n",
    "        output = resnet(image)\n",
    "    return output.squeeze().numpy() \n"
   ]
  },
  {
   "cell_type": "code",
   "execution_count": 16,
   "metadata": {},
   "outputs": [],
   "source": [
    "data['embedings'] = data['img_path'].apply(get_resnet_embedding)\n",
    "data.embedings = data.embedings.apply(lambda x: [x.tolist()])\n",
    "emb = data.set_index('id')['embedings']"
   ]
  },
  {
   "cell_type": "code",
   "execution_count": null,
   "metadata": {},
   "outputs": [],
   "source": [
    "columns = data.id.unique()\n",
    "dist_df = pd.DataFrame(index=columns, columns=columns)\n",
    "for i in range(len(columns)):\n",
    "    for j in range(i, len(columns)):\n",
    "        dist_df[columns[i]][columns[j]] = cosine_distances(emb[columns[i]], emb[columns[j]])[0][0]\n",
    "        dist_df[columns[j]][columns[i]] = dist_df[columns[i]][columns[j]]\n",
    "dist_df"
   ]
  },
  {
   "cell_type": "code",
   "execution_count": 35,
   "metadata": {},
   "outputs": [],
   "source": [
    "dist_df.to_csv('dist.csv', sep=';', index_label='img_id')"
   ]
  },
  {
   "cell_type": "code",
   "execution_count": 13,
   "metadata": {},
   "outputs": [],
   "source": [
    "connection.executescript('''DELETE FROM interaction''')\n",
    "connection.commit()\n",
    "# connection.close()"
   ]
  }
 ],
 "metadata": {
  "kernelspec": {
   "display_name": "Python 3",
   "language": "python",
   "name": "python3"
  },
  "language_info": {
   "codemirror_mode": {
    "name": "ipython",
    "version": 3
   },
   "file_extension": ".py",
   "mimetype": "text/x-python",
   "name": "python",
   "nbconvert_exporter": "python",
   "pygments_lexer": "ipython3",
   "version": "3.9.6"
  },
  "orig_nbformat": 4
 },
 "nbformat": 4,
 "nbformat_minor": 2
}
