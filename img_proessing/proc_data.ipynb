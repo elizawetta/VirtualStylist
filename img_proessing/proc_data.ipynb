{
 "cells": [
  {
   "cell_type": "code",
   "execution_count": 130,
   "metadata": {},
   "outputs": [],
   "source": [
    "import pandas as pd \n",
    "from PIL import Image \n",
    "import cv2\n",
    "import numpy as np\n",
    "import os\n",
    "import colorsys\n",
    "import tqdm"
   ]
  },
  {
   "cell_type": "markdown",
   "metadata": {},
   "source": [
    "# Get main colors"
   ]
  },
  {
   "cell_type": "code",
   "execution_count": 131,
   "metadata": {},
   "outputs": [],
   "source": [
    "MAIN_COLORS_HSL = {\n",
    "    'pink': (320, 340),\n",
    "    'red': ((340, 360), (0, 15)), 'orange': (15, 45),\n",
    "    'yellow': (45, 55), 'green': (55, 165),\n",
    "    'blue': (165, 240),\n",
    "    'violet': (240, 320)\n",
    "    }\n",
    "\n",
    "def find_neighbour_color(color_hsv, bl, wh):\n",
    "    ans = ''\n",
    "    if bl <= 15 and wh <= 15:\n",
    "        return 'dark'\n",
    "    for i, j in MAIN_COLORS_HSL.items():\n",
    "        if i == 'red':\n",
    "            if j[0][0] <= color_hsv <= j[0][1] or j[1][0] <= color_hsv <= j[1][1]:\n",
    "                ans = 'red'\n",
    "                break\n",
    "        elif j[0] <= color_hsv <= j[1]:\n",
    "            ans = i\n",
    "            break\n",
    "    if ans == 'red' and ((bl <= 28 and wh >= 78) or wh >= 90):\n",
    "        ans = 'pink'\n",
    "    elif ans == 'orange' and  (bl <= 28 and wh >= 78 or wh >= 90):\n",
    "        ans = 'peach'\n",
    "    elif (ans == 'orange' or ans == 'red') and (wh <= 25 or (wh <= 45 and bl <= 45)):\n",
    "        ans = 'brown'\n",
    "    return ans"
   ]
  },
  {
   "cell_type": "code",
   "execution_count": null,
   "metadata": {},
   "outputs": [],
   "source": [
    "data = pd.read_csv('data.csv', delimiter=';')\n",
    "data['bl'] = data['bl'] * 100\n",
    "data['wh'] = data['wh'] / 255 * 100\n",
    "data['color'] = data.apply(lambda x: find_neighbour_color(x.color_hsv, x.bl, x.wh), axis=1)\n",
    "data"
   ]
  },
  {
   "cell_type": "code",
   "execution_count": 147,
   "metadata": {},
   "outputs": [
    {
     "data": {
      "text/plain": [
       "color\n",
       "blue      1247\n",
       "brown      798\n",
       "dark       492\n",
       "green      737\n",
       "orange     986\n",
       "peach     1314\n",
       "pink       797\n",
       "red        575\n",
       "violet     412\n",
       "yellow     188\n",
       "Name: img_path, dtype: int64"
      ]
     },
     "execution_count": 147,
     "metadata": {},
     "output_type": "execute_result"
    }
   ],
   "source": [
    "data.groupby('color').img_path.count()"
   ]
  },
  {
   "cell_type": "code",
   "execution_count": 153,
   "metadata": {},
   "outputs": [],
   "source": [
    "for i in data[data.color == 'peach'].img_path[200:400]:\n",
    "    im = Image.open(i) \n",
    "    im.show()\n"
   ]
  },
  {
   "cell_type": "code",
   "execution_count": 155,
   "metadata": {},
   "outputs": [],
   "source": [
    "data.to_csv('data_with_colors.csv', index=False)"
   ]
  },
  {
   "cell_type": "code",
   "execution_count": null,
   "metadata": {},
   "outputs": [],
   "source": []
  }
 ],
 "metadata": {
  "kernelspec": {
   "display_name": "Python 3",
   "language": "python",
   "name": "python3"
  },
  "language_info": {
   "codemirror_mode": {
    "name": "ipython",
    "version": 3
   },
   "file_extension": ".py",
   "mimetype": "text/x-python",
   "name": "python",
   "nbconvert_exporter": "python",
   "pygments_lexer": "ipython3",
   "version": "3.9.6"
  },
  "orig_nbformat": 4
 },
 "nbformat": 4,
 "nbformat_minor": 2
}
