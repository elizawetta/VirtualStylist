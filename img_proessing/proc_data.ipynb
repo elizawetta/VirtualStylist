{
 "cells": [
  {
   "cell_type": "code",
   "execution_count": 1,
   "metadata": {},
   "outputs": [],
   "source": [
    "import pandas as pd \n",
    "from PIL import Image \n",
    "import cv2\n",
    "import numpy as np\n",
    "import os\n",
    "import colorsys\n",
    "import tqdm"
   ]
  },
  {
   "cell_type": "markdown",
   "metadata": {},
   "source": [
    "# Get main colors"
   ]
  },
  {
   "cell_type": "code",
   "execution_count": 131,
   "metadata": {},
   "outputs": [],
   "source": [
    "MAIN_COLORS_HSL = {\n",
    "    'pink': (320, 340),\n",
    "    'red': ((340, 360), (0, 15)), 'orange': (15, 45),\n",
    "    'yellow': (45, 55), 'green': (55, 165),\n",
    "    'blue': (165, 240),\n",
    "    'violet': (240, 320)\n",
    "    }\n",
    "\n",
    "def find_neighbour_color(color_hsv, bl, wh):\n",
    "    ans = ''\n",
    "    if bl <= 15 and wh <= 15:\n",
    "        return 'dark'\n",
    "    for i, j in MAIN_COLORS_HSL.items():\n",
    "        if i == 'red':\n",
    "            if j[0][0] <= color_hsv <= j[0][1] or j[1][0] <= color_hsv <= j[1][1]:\n",
    "                ans = 'red'\n",
    "                break\n",
    "        elif j[0] <= color_hsv <= j[1]:\n",
    "            ans = i\n",
    "            break\n",
    "    if ans == 'red' and ((bl <= 28 and wh >= 78) or wh >= 90):\n",
    "        ans = 'pink'\n",
    "    elif ans == 'orange' and  (bl <= 28 and wh >= 78 or wh >= 90):\n",
    "        ans = 'peach'\n",
    "    elif (ans == 'orange' or ans == 'red') and (wh <= 25 or (wh <= 45 and bl <= 45)):\n",
    "        ans = 'brown'\n",
    "    return ans"
   ]
  },
  {
   "cell_type": "code",
   "execution_count": null,
   "metadata": {},
   "outputs": [],
   "source": [
    "data = pd.read_csv('data.csv', delimiter=';')\n",
    "data['bl'] = data['bl'] * 100\n",
    "data['wh'] = data['wh'] / 255 * 100\n",
    "data['color'] = data.apply(lambda x: find_neighbour_color(x.color_hsv, x.bl, x.wh), axis=1)\n",
    "data"
   ]
  },
  {
   "cell_type": "code",
   "execution_count": 155,
   "metadata": {},
   "outputs": [],
   "source": [
    "data.to_csv('data_with_colors.csv', index=False)"
   ]
  },
  {
   "cell_type": "markdown",
   "metadata": {},
   "source": [
    "# Clothes type"
   ]
  },
  {
   "cell_type": "code",
   "execution_count": null,
   "metadata": {},
   "outputs": [],
   "source": [
    "data = pd.read_csv('data_with_colors.csv')\n",
    "data.img_path = data.img_path.apply(lambda x: x.split('/')[1])\n",
    "data"
   ]
  },
  {
   "cell_type": "code",
   "execution_count": 3,
   "metadata": {},
   "outputs": [],
   "source": [
    "classes = list(map(str.strip, open('classes.txt').readlines()))"
   ]
  },
  {
   "cell_type": "code",
   "execution_count": 5,
   "metadata": {},
   "outputs": [],
   "source": [
    "images = next(os.walk('../project/static/images'))[2]\n",
    "data = data[data.img_path.isin(list(map(lambda x: x.split('-')[-1], images)))]"
   ]
  },
  {
   "cell_type": "code",
   "execution_count": 7,
   "metadata": {},
   "outputs": [],
   "source": [
    "labels = next(os.walk('../project/static/labels'))[2]\n",
    "a = []\n",
    "for i in labels:\n",
    "    clth = list(map(int, open('../project/static/labels/'+i).read().replace('\\n', ' ').split()[::5]))\n",
    "    a.append((i.replace('txt', 'png'), clth))\n",
    "labels_data = pd.DataFrame(a)\n",
    "labels_data['img_path'] = labels_data[0].apply(lambda x: x.split('-')[-1])\n"
   ]
  },
  {
   "cell_type": "code",
   "execution_count": 8,
   "metadata": {},
   "outputs": [],
   "source": [
    "data = labels_data.set_index('img_path').join(\n",
    "    data.set_index('img_path')).reset_index().drop(\n",
    "        columns='img_path').rename(columns={0: 'img_path', 1: 'clothes'})\n",
    "data['clothes'] = data['clothes'].apply(lambda x: ','.join(map(str, set(x))))\n",
    "data.to_csv('marked_images.csv', index=False, sep=';')"
   ]
  },
  {
   "cell_type": "code",
   "execution_count": null,
   "metadata": {},
   "outputs": [],
   "source": []
  }
 ],
 "metadata": {
  "kernelspec": {
   "display_name": "Python 3",
   "language": "python",
   "name": "python3"
  },
  "language_info": {
   "codemirror_mode": {
    "name": "ipython",
    "version": 3
   },
   "file_extension": ".py",
   "mimetype": "text/x-python",
   "name": "python",
   "nbconvert_exporter": "python",
   "pygments_lexer": "ipython3",
   "version": "3.9.6"
  },
  "orig_nbformat": 4
 },
 "nbformat": 4,
 "nbformat_minor": 2
}
