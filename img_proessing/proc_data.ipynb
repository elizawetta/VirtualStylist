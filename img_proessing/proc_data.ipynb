{
 "cells": [
  {
   "cell_type": "code",
   "execution_count": 1,
   "metadata": {},
   "outputs": [],
   "source": [
    "import pandas as pd \n",
    "from PIL import Image \n",
    "import cv2\n",
    "import numpy as np\n",
    "import os\n",
    "import colorsys\n",
    "import tqdm"
   ]
  },
  {
   "cell_type": "markdown",
   "metadata": {},
   "source": [
    "# Get main colors"
   ]
  },
  {
   "cell_type": "code",
   "execution_count": 131,
   "metadata": {},
   "outputs": [],
   "source": [
    "MAIN_COLORS_HSL = {\n",
    "    'pink': (320, 340),\n",
    "    'red': ((340, 360), (0, 15)), 'orange': (15, 45),\n",
    "    'yellow': (45, 55), 'green': (55, 165),\n",
    "    'blue': (165, 240),\n",
    "    'violet': (240, 320)\n",
    "    }\n",
    "\n",
    "def find_neighbour_color(color_hsv, bl, wh):\n",
    "    ans = ''\n",
    "    if bl <= 15 and wh <= 15:\n",
    "        return 'dark'\n",
    "    for i, j in MAIN_COLORS_HSL.items():\n",
    "        if i == 'red':\n",
    "            if j[0][0] <= color_hsv <= j[0][1] or j[1][0] <= color_hsv <= j[1][1]:\n",
    "                ans = 'red'\n",
    "                break\n",
    "        elif j[0] <= color_hsv <= j[1]:\n",
    "            ans = i\n",
    "            break\n",
    "    if ans == 'red' and ((bl <= 28 and wh >= 78) or wh >= 90):\n",
    "        ans = 'pink'\n",
    "    elif ans == 'orange' and  (bl <= 28 and wh >= 78 or wh >= 90):\n",
    "        ans = 'peach'\n",
    "    elif (ans == 'orange' or ans == 'red') and (wh <= 25 or (wh <= 45 and bl <= 45)):\n",
    "        ans = 'brown'\n",
    "    return ans"
   ]
  },
  {
   "cell_type": "code",
   "execution_count": null,
   "metadata": {},
   "outputs": [],
   "source": [
    "data = pd.read_csv('data.csv', delimiter=';')\n",
    "data['bl'] = data['bl'] * 100\n",
    "data['wh'] = data['wh'] / 255 * 100\n",
    "data['color'] = data.apply(lambda x: find_neighbour_color(x.color_hsv, x.bl, x.wh), axis=1)\n",
    "data"
   ]
  },
  {
   "cell_type": "code",
   "execution_count": 155,
   "metadata": {},
   "outputs": [],
   "source": [
    "data.to_csv('data_with_colors.csv', index=False)"
   ]
  },
  {
   "cell_type": "markdown",
   "metadata": {},
   "source": [
    "# Clothes type"
   ]
  },
  {
   "cell_type": "code",
   "execution_count": 2,
   "metadata": {},
   "outputs": [
    {
     "data": {
      "text/html": [
       "<div>\n",
       "<style scoped>\n",
       "    .dataframe tbody tr th:only-of-type {\n",
       "        vertical-align: middle;\n",
       "    }\n",
       "\n",
       "    .dataframe tbody tr th {\n",
       "        vertical-align: top;\n",
       "    }\n",
       "\n",
       "    .dataframe thead th {\n",
       "        text-align: right;\n",
       "    }\n",
       "</style>\n",
       "<table border=\"1\" class=\"dataframe\">\n",
       "  <thead>\n",
       "    <tr style=\"text-align: right;\">\n",
       "      <th></th>\n",
       "      <th>img_path</th>\n",
       "      <th>color_hsv</th>\n",
       "      <th>bl</th>\n",
       "      <th>wh</th>\n",
       "      <th>color</th>\n",
       "    </tr>\n",
       "  </thead>\n",
       "  <tbody>\n",
       "    <tr>\n",
       "      <th>0</th>\n",
       "      <td>image6561.png</td>\n",
       "      <td>40.000000</td>\n",
       "      <td>1.209677</td>\n",
       "      <td>97.254902</td>\n",
       "      <td>peach</td>\n",
       "    </tr>\n",
       "    <tr>\n",
       "      <th>1</th>\n",
       "      <td>image10104.png</td>\n",
       "      <td>28.085106</td>\n",
       "      <td>20.524017</td>\n",
       "      <td>89.803922</td>\n",
       "      <td>peach</td>\n",
       "    </tr>\n",
       "    <tr>\n",
       "      <th>2</th>\n",
       "      <td>image9652.png</td>\n",
       "      <td>215.555556</td>\n",
       "      <td>27.551020</td>\n",
       "      <td>38.431373</td>\n",
       "      <td>blue</td>\n",
       "    </tr>\n",
       "    <tr>\n",
       "      <th>3</th>\n",
       "      <td>image3419.png</td>\n",
       "      <td>290.000000</td>\n",
       "      <td>3.260870</td>\n",
       "      <td>72.156863</td>\n",
       "      <td>violet</td>\n",
       "    </tr>\n",
       "    <tr>\n",
       "      <th>4</th>\n",
       "      <td>image5068.png</td>\n",
       "      <td>172.500000</td>\n",
       "      <td>19.047619</td>\n",
       "      <td>16.470588</td>\n",
       "      <td>blue</td>\n",
       "    </tr>\n",
       "    <tr>\n",
       "      <th>...</th>\n",
       "      <td>...</td>\n",
       "      <td>...</td>\n",
       "      <td>...</td>\n",
       "      <td>...</td>\n",
       "      <td>...</td>\n",
       "    </tr>\n",
       "    <tr>\n",
       "      <th>7541</th>\n",
       "      <td>image3400.png</td>\n",
       "      <td>141.818182</td>\n",
       "      <td>23.913043</td>\n",
       "      <td>18.039216</td>\n",
       "      <td>green</td>\n",
       "    </tr>\n",
       "    <tr>\n",
       "      <th>7542</th>\n",
       "      <td>image8555.png</td>\n",
       "      <td>16.000000</td>\n",
       "      <td>64.516129</td>\n",
       "      <td>36.470588</td>\n",
       "      <td>orange</td>\n",
       "    </tr>\n",
       "    <tr>\n",
       "      <th>7543</th>\n",
       "      <td>image9893.png</td>\n",
       "      <td>169.565217</td>\n",
       "      <td>19.327731</td>\n",
       "      <td>46.666667</td>\n",
       "      <td>blue</td>\n",
       "    </tr>\n",
       "    <tr>\n",
       "      <th>7544</th>\n",
       "      <td>image1217.png</td>\n",
       "      <td>354.000000</td>\n",
       "      <td>89.285714</td>\n",
       "      <td>21.960784</td>\n",
       "      <td>brown</td>\n",
       "    </tr>\n",
       "    <tr>\n",
       "      <th>7545</th>\n",
       "      <td>image6578.png</td>\n",
       "      <td>34.285714</td>\n",
       "      <td>2.953586</td>\n",
       "      <td>92.941176</td>\n",
       "      <td>peach</td>\n",
       "    </tr>\n",
       "  </tbody>\n",
       "</table>\n",
       "<p>7546 rows × 5 columns</p>\n",
       "</div>"
      ],
      "text/plain": [
       "            img_path   color_hsv         bl         wh   color\n",
       "0      image6561.png   40.000000   1.209677  97.254902   peach\n",
       "1     image10104.png   28.085106  20.524017  89.803922   peach\n",
       "2      image9652.png  215.555556  27.551020  38.431373    blue\n",
       "3      image3419.png  290.000000   3.260870  72.156863  violet\n",
       "4      image5068.png  172.500000  19.047619  16.470588    blue\n",
       "...              ...         ...        ...        ...     ...\n",
       "7541   image3400.png  141.818182  23.913043  18.039216   green\n",
       "7542   image8555.png   16.000000  64.516129  36.470588  orange\n",
       "7543   image9893.png  169.565217  19.327731  46.666667    blue\n",
       "7544   image1217.png  354.000000  89.285714  21.960784   brown\n",
       "7545   image6578.png   34.285714   2.953586  92.941176   peach\n",
       "\n",
       "[7546 rows x 5 columns]"
      ]
     },
     "execution_count": 2,
     "metadata": {},
     "output_type": "execute_result"
    }
   ],
   "source": [
    "data = pd.read_csv('data_with_colors.csv')\n",
    "data.img_path = data.img_path.apply(lambda x: x.split('/')[1])\n",
    "data"
   ]
  },
  {
   "cell_type": "code",
   "execution_count": 3,
   "metadata": {},
   "outputs": [],
   "source": [
    "classes = list(map(str.strip, open('classes.txt').readlines()))"
   ]
  },
  {
   "cell_type": "code",
   "execution_count": 5,
   "metadata": {},
   "outputs": [],
   "source": [
    "images = next(os.walk('../project/static/images'))[2]\n",
    "data = data[data.img_path.isin(list(map(lambda x: x.split('-')[-1], images)))]"
   ]
  },
  {
   "cell_type": "code",
   "execution_count": 7,
   "metadata": {},
   "outputs": [],
   "source": [
    "labels = next(os.walk('../project/static/labels'))[2]\n",
    "a = []\n",
    "for i in labels:\n",
    "    clth = list(map(int, open('../project/static/labels/'+i).read().replace('\\n', ' ').split()[::5]))\n",
    "    a.append((i.replace('txt', 'png'), clth))\n",
    "labels_data = pd.DataFrame(a)\n",
    "labels_data['img_path'] = labels_data[0].apply(lambda x: x.split('-')[-1])\n"
   ]
  },
  {
   "cell_type": "code",
   "execution_count": 8,
   "metadata": {},
   "outputs": [],
   "source": [
    "data = labels_data.set_index('img_path').join(\n",
    "    data.set_index('img_path')).reset_index().drop(\n",
    "        columns='img_path').rename(columns={0: 'img_path', 1: 'clothes'})\n",
    "data['clothes'] = data['clothes'].apply(lambda x: ','.join(map(str, set(x))))\n",
    "data.to_csv('marked_images.csv', index=False, sep=';')"
   ]
  },
  {
   "cell_type": "code",
   "execution_count": null,
   "metadata": {},
   "outputs": [],
   "source": []
  }
 ],
 "metadata": {
  "kernelspec": {
   "display_name": "Python 3",
   "language": "python",
   "name": "python3"
  },
  "language_info": {
   "codemirror_mode": {
    "name": "ipython",
    "version": 3
   },
   "file_extension": ".py",
   "mimetype": "text/x-python",
   "name": "python",
   "nbconvert_exporter": "python",
   "pygments_lexer": "ipython3",
   "version": "3.9.6"
  },
  "orig_nbformat": 4
 },
 "nbformat": 4,
 "nbformat_minor": 2
}
